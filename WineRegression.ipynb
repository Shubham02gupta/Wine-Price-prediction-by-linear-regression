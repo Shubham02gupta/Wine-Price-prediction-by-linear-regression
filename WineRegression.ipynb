{
 "cells": [
  {
   "cell_type": "markdown",
   "metadata": {},
   "source": [
    "******** Predicting Wine Price ****************\n",
    "\n",
    "## Read in data"
   ]
  },
  {
   "cell_type": "code",
   "execution_count": 1,
   "metadata": {
    "collapsed": false
   },
   "outputs": [
    {
     "name": "stdout",
     "output_type": "stream",
     "text": [
      "Year             int64\n",
      "Price          float64\n",
      "WinterRain       int64\n",
      "AGST           float64\n",
      "HarvestRain      int64\n",
      "Age              int64\n",
      "FrancePop      float64\n",
      "dtype: object\n"
     ]
    }
   ],
   "source": [
    "import pandas as pd\n",
    "\n",
    "wine = pd.read_csv(\"data/wine.csv\")\n",
    "print(wine.dtypes)"
   ]
  },
  {
   "cell_type": "code",
   "execution_count": 2,
   "metadata": {
    "collapsed": false
   },
   "outputs": [
    {
     "name": "stdout",
     "output_type": "stream",
     "text": [
      "              Year      Price  WinterRain       AGST  HarvestRain        Age  \\\n",
      "count    25.000000  25.000000   25.000000  25.000000    25.000000  25.000000   \n",
      "mean   1965.800000   7.067224  605.280000  16.509336   148.560000  17.200000   \n",
      "std       7.691987   0.650341  132.277965   0.675397    74.419464   7.691987   \n",
      "min    1952.000000   6.204900  376.000000  14.983300    38.000000   5.000000   \n",
      "25%    1960.000000   6.518800  536.000000  16.200000    89.000000  11.000000   \n",
      "50%    1966.000000   7.121100  600.000000  16.533300   130.000000  17.000000   \n",
      "75%    1972.000000   7.495000  697.000000  17.066700   187.000000  23.000000   \n",
      "max    1978.000000   8.493700  830.000000  17.650000   292.000000  31.000000   \n",
      "\n",
      "          FrancePop  \n",
      "count     25.000000  \n",
      "mean   49694.436760  \n",
      "std     3665.270243  \n",
      "min    43183.569000  \n",
      "25%    46583.995000  \n",
      "50%    50254.966000  \n",
      "75%    52894.183000  \n",
      "max    54602.193000  \n"
     ]
    }
   ],
   "source": [
    "print(wine.describe())"
   ]
  },
  {
   "cell_type": "markdown",
   "metadata": {},
   "source": [
    "## Linear Regression (one variable)\n"
   ]
  },
  {
   "cell_type": "code",
   "execution_count": 10,
   "metadata": {
    "collapsed": false
   },
   "outputs": [
    {
     "data": {
      "text/plain": [
       "LinearRegression(copy_X=True, fit_intercept=True, n_jobs=1, normalize=False)"
      ]
     },
     "execution_count": 10,
     "metadata": {},
     "output_type": "execute_result"
    }
   ],
   "source": [
    "from sklearn import linear_model\n",
    "import numpy as np\n",
    "model1 = linear_model.LinearRegression()\n",
    "model1.fit(np.array(wine['AGST'])[:,np.newaxis], wine['Price'])"
   ]
  },
  {
   "cell_type": "markdown",
   "metadata": {},
   "source": [
    "Or equvalently"
   ]
  },
  {
   "cell_type": "code",
   "execution_count": 11,
   "metadata": {
    "collapsed": false
   },
   "outputs": [
    {
     "data": {
      "text/plain": [
       "LinearRegression(copy_X=True, fit_intercept=True, n_jobs=1, normalize=False)"
      ]
     },
     "execution_count": 11,
     "metadata": {},
     "output_type": "execute_result"
    }
   ],
   "source": [
    "model1.fit(np.matrix([wine['AGST'].as_matrix()]).transpose(), wine['Price'])"
   ]
  },
  {
   "cell_type": "markdown",
   "metadata": {},
   "source": []
  },
  {
   "cell_type": "markdown",
   "metadata": {},
   "source": [
    "## Sum of Squared Errors"
   ]
  },
  {
   "cell_type": "code",
   "execution_count": 12,
   "metadata": {
    "collapsed": false
   },
   "outputs": [
    {
     "name": "stdout",
     "output_type": "stream",
     "text": [
      "5.73487514702\n"
     ]
    }
   ],
   "source": [
    "# make prediction on the training data\n",
    "model1Pred = model1.predict(np.array(wine['AGST'])[:,np.newaxis]) \n",
    "# calculating and printing out SSE\n",
    "print(sum(( model1Pred - wine['Price'])**2))"
   ]
  },
  {
   "cell_type": "markdown",
   "metadata": {},
   "source": [
    "## Linear Regression (two variables)"
   ]
  },
  {
   "cell_type": "code",
   "execution_count": 13,
   "metadata": {
    "collapsed": false
   },
   "outputs": [
    {
     "data": {
      "text/plain": [
       "LinearRegression(copy_X=True, fit_intercept=True, n_jobs=1, normalize=False)"
      ]
     },
     "execution_count": 13,
     "metadata": {},
     "output_type": "execute_result"
    }
   ],
   "source": [
    "model2 = linear_model.LinearRegression()\n",
    "model2.fit(wine[['AGST','HarvestRain']], wine['Price'])"
   ]
  },
  {
   "cell_type": "code",
   "execution_count": 14,
   "metadata": {
    "collapsed": false
   },
   "outputs": [
    {
     "name": "stdout",
     "output_type": "stream",
     "text": [
      "2.97037334017\n"
     ]
    }
   ],
   "source": [
    "print(sum(( model2.predict(wine[['AGST','HarvestRain']]) - wine['Price'])**2))"
   ]
  },
  {
   "cell_type": "markdown",
   "metadata": {},
   "source": [
    "## Linear Regression (all variables)\n"
   ]
  },
  {
   "cell_type": "code",
   "execution_count": 15,
   "metadata": {
    "collapsed": false
   },
   "outputs": [
    {
     "data": {
      "text/plain": [
       "LinearRegression(copy_X=True, fit_intercept=True, n_jobs=1, normalize=False)"
      ]
     },
     "execution_count": 15,
     "metadata": {},
     "output_type": "execute_result"
    }
   ],
   "source": [
    "predictors3 = ['AGST', 'HarvestRain', 'WinterRain', 'Age', 'FrancePop']\n",
    "model3 = linear_model.LinearRegression()\n",
    "model3.fit(wine[predictors3], wine['Price'])"
   ]
  },
  {
   "cell_type": "code",
   "execution_count": 16,
   "metadata": {
    "collapsed": false
   },
   "outputs": [
    {
     "name": "stdout",
     "output_type": "stream",
     "text": [
      "[  6.01223884e-01  -3.95812450e-03   1.04250681e-03   5.84748489e-04\n",
      "  -4.95273038e-05] -0.450398864395\n"
     ]
    }
   ],
   "source": [
    "print(model3.coef_ ,  model3.intercept_)"
   ]
  },
  {
   "cell_type": "code",
   "execution_count": 17,
   "metadata": {
    "collapsed": false
   },
   "outputs": [
    {
     "name": "stdout",
     "output_type": "stream",
     "text": [
      "1.73211271534\n"
     ]
    }
   ],
   "source": [
    "print(sum(( model3.predict(wine[predictors3]) - wine['Price'])**2))"
   ]
  },
  {
   "cell_type": "markdown",
   "metadata": {},
   "source": [
    "\n",
    "## Remove FrancePop"
   ]
  },
  {
   "cell_type": "code",
   "execution_count": 18,
   "metadata": {
    "collapsed": false
   },
   "outputs": [
    {
     "data": {
      "text/plain": [
       "LinearRegression(copy_X=True, fit_intercept=True, n_jobs=1, normalize=False)"
      ]
     },
     "execution_count": 18,
     "metadata": {},
     "output_type": "execute_result"
    }
   ],
   "source": [
    "predictors4 = ['AGST', 'HarvestRain', 'WinterRain', 'Age']\n",
    "model4 = linear_model.LinearRegression()\n",
    "model4.fit(wine[predictors4], wine['Price'])"
   ]
  },
  {
   "cell_type": "code",
   "execution_count": 19,
   "metadata": {
    "collapsed": false
   },
   "outputs": [
    {
     "name": "stdout",
     "output_type": "stream",
     "text": [
      "[ 0.60720935 -0.00397153  0.00107551  0.02393083] -3.42998018693\n"
     ]
    }
   ],
   "source": [
    "print(model4.coef_ ,  model4.intercept_)"
   ]
  },
  {
   "cell_type": "markdown",
   "metadata": {},
   "source": [
    "\n",
    "## Correlations\n",
    "Pearson correlation coefficient between two variables"
   ]
  },
  {
   "cell_type": "code",
   "execution_count": 20,
   "metadata": {
    "collapsed": false
   },
   "outputs": [
    {
     "name": "stdout",
     "output_type": "stream",
     "text": [
      "0.136650547388\n"
     ]
    }
   ],
   "source": [
    "import numpy as np\n",
    "print(np.corrcoef(wine['WinterRain'], wine['Price'])[0,1])"
   ]
  },
  {
   "cell_type": "code",
   "execution_count": 21,
   "metadata": {
    "collapsed": false
   },
   "outputs": [
    {
     "name": "stdout",
     "output_type": "stream",
     "text": [
      "-0.994485097111\n"
     ]
    }
   ],
   "source": [
    "print(np.corrcoef(wine['Age'], wine['FrancePop'])[0,1])"
   ]
  },
  {
   "cell_type": "markdown",
   "metadata": {},
   "source": [
    "Correlation Matrix"
   ]
  },
  {
   "cell_type": "code",
   "execution_count": 22,
   "metadata": {
    "collapsed": false,
    "scrolled": true
   },
   "outputs": [
    {
     "name": "stdout",
     "output_type": "stream",
     "text": [
      "                 Year     Price  WinterRain      AGST  HarvestRain       Age  \\\n",
      "Year         1.000000 -0.447768    0.016970 -0.246916     0.028009 -1.000000   \n",
      "Price       -0.447768  1.000000    0.136651  0.659563    -0.563322  0.447768   \n",
      "WinterRain   0.016970  0.136651    1.000000 -0.321091    -0.275441 -0.016970   \n",
      "AGST        -0.246916  0.659563   -0.321091  1.000000    -0.064496  0.246916   \n",
      "HarvestRain  0.028009 -0.563322   -0.275441 -0.064496     1.000000 -0.028009   \n",
      "Age         -1.000000  0.447768   -0.016970  0.246916    -0.028009  1.000000   \n",
      "FrancePop    0.994485 -0.466862   -0.001622 -0.259162     0.041264 -0.994485   \n",
      "\n",
      "             FrancePop  \n",
      "Year          0.994485  \n",
      "Price        -0.466862  \n",
      "WinterRain   -0.001622  \n",
      "AGST         -0.259162  \n",
      "HarvestRain   0.041264  \n",
      "Age          -0.994485  \n",
      "FrancePop     1.000000  \n"
     ]
    }
   ],
   "source": [
    "print(wine.corr())"
   ]
  },
  {
   "cell_type": "markdown",
   "metadata": {},
   "source": [
    "\n",
    "## Read in test set"
   ]
  },
  {
   "cell_type": "code",
   "execution_count": 23,
   "metadata": {
    "collapsed": false
   },
   "outputs": [
    {
     "name": "stdout",
     "output_type": "stream",
     "text": [
      "   Year   Price  WinterRain     AGST  HarvestRain  Age  FrancePop\n",
      "0  1979  6.9541         717  16.1667          122    4  54835.832\n",
      "1  1980  6.4979         578  16.0000           74    3  55110.236\n"
     ]
    }
   ],
   "source": [
    "wineTest = pd.read_csv(\"data/wine_test.csv\")\n",
    "print(wineTest)"
   ]
  },
  {
   "cell_type": "markdown",
   "metadata": {},
   "source": [
    "## Make test set predictions"
   ]
  },
  {
   "cell_type": "code",
   "execution_count": 24,
   "metadata": {
    "collapsed": false
   },
   "outputs": [
    {
     "name": "stdout",
     "output_type": "stream",
     "text": [
      "[ 6.76892463  6.6849104 ]\n"
     ]
    }
   ],
   "source": [
    "predictTest = model4.predict(wineTest[predictors4])\n",
    "print(predictTest)"
   ]
  },
  {
   "cell_type": "markdown",
   "metadata": {},
   "source": [
    "## Compute R-squared"
   ]
  },
  {
   "cell_type": "code",
   "execution_count": 25,
   "metadata": {
    "collapsed": false
   },
   "outputs": [
    {
     "name": "stdout",
     "output_type": "stream",
     "text": [
      "0.334390470275\n"
     ]
    }
   ],
   "source": [
    "SSE = sum((predictTest - wineTest['Price'])**2)\n",
    "SST = sum((wineTest['Price'] - np.mean(wineTest['Price']))**2)\n",
    "print(1 - SSE/SST)"
   ]
  },
  {
   "cell_type": "code",
   "execution_count": 26,
   "metadata": {
    "collapsed": false
   },
   "outputs": [
    {
     "name": "stdout",
     "output_type": "stream",
     "text": [
      "0.334390470275\n"
     ]
    }
   ],
   "source": [
    "print(model4.score(wineTest[predictors4], wineTest['Price']))"
   ]
  },
  {
   "cell_type": "code",
   "execution_count": null,
   "metadata": {
    "collapsed": true
   },
   "outputs": [],
   "source": []
  }
 ],
 "metadata": {
  "kernelspec": {
   "display_name": "Python 3",
   "language": "python",
   "name": "python3"
  },
  "language_info": {
   "codemirror_mode": {
    "name": "ipython",
    "version": 3
   },
   "file_extension": ".py",
   "mimetype": "text/x-python",
   "name": "python",
   "nbconvert_exporter": "python",
   "pygments_lexer": "ipython3",
   "version": "3.6.0"
  }
 },
 "nbformat": 4,
 "nbformat_minor": 0
}
